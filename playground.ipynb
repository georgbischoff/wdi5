{
 "cells": [
  {
   "cell_type": "code",
   "execution_count": 5,
   "metadata": {},
   "outputs": [
    {
     "name": "stdout",
     "output_type": "stream",
     "text": [
      "\n"
     ]
    },
    {
     "data": {
      "text/plain": [
       "Promise { <pending> }"
      ]
     },
     "execution_count": 5,
     "metadata": {},
     "output_type": "execute_result"
    }
   ],
   "source": [
    "const Launcher = require(\"@wdio/cli\").default\n",
    "const fsExtra = require(\"fs-extra\")\n",
    "\n",
    "const wdioBaseConf = fsExtra.readFileSync(\"./examples/ui5-js-app/wdio.base.conf.js\")\n",
    "\n",
    "const targetWdioConf = {}\n",
    "const wdio = new Launcher(targetWdioConf)\n",
    "await wdio.run().then((code) => {\n",
    "    if (code === 1) {\n",
    "        process.exit(1)\n",
    "    }\n",
    "})"
   ]
  },
  {
   "cell_type": "code",
   "execution_count": null,
   "metadata": {},
   "outputs": [],
   "source": [
    "const { join } = require(\"path\")\n",
    "const { baseConfig } = require(\"./wdio.base.conf\")\n",
    "const merge = require(\"deepmerge\")\n",
    "\n",
    "const _config = {\n",
    "    wdi5: {\n",
    "        skipInjectUI5OnStart: true,\n",
    "        url: \"/js-soft/wdi5/\"\n",
    "    },\n",
    "    specs: [join(\"webapp\", \"test\", \"e2e\", \"ui5-late.test.js\")],\n",
    "    baseUrl: \"https://github.com\"\n",
    "}\n",
    "\n",
    "exports.config = merge(baseConfig, _config)"
   ]
  },
  {
   "cell_type": "code",
   "execution_count": null,
   "metadata": {},
   "outputs": [],
   "source": [
    "\n"
   ]
  }
 ],
 "metadata": {
  "kernelspec": {
   "display_name": "JavaScript (Node.js)",
   "language": "javascript",
   "name": "javascript"
  },
  "language_info": {
   "file_extension": ".js",
   "mimetype": "application/javascript",
   "name": "javascript",
   "version": "16.14.0"
  },
  "orig_nbformat": 4
 },
 "nbformat": 4,
 "nbformat_minor": 2
}
